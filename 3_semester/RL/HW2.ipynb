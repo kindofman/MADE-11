{
 "cells": [
  {
   "cell_type": "code",
   "execution_count": 1,
   "metadata": {},
   "outputs": [
    {
     "name": "stderr",
     "output_type": "stream",
     "text": [
      "/Users/anton.kuryshov/opt/anaconda3/lib/python3.8/site-packages/sklearn/utils/deprecation.py:143: FutureWarning: The sklearn.utils.testing module is  deprecated in version 0.22 and will be removed in version 0.24. The corresponding classes / functions should instead be imported from sklearn.utils. Anything that cannot be imported from sklearn.utils is now part of the private API.\n",
      "  warnings.warn(message, FutureWarning)\n"
     ]
    }
   ],
   "source": [
    "import gym\n",
    "\n",
    "import matplotlib as mpl\n",
    "import matplotlib.pyplot as plt\n",
    "import seaborn as sns\n",
    "import json\n",
    "import math\n",
    "import random\n",
    "import numpy as np\n",
    "import scipy as sp\n",
    "import scipy.stats as st\n",
    "import scipy.integrate as integrate\n",
    "from scipy.stats import multivariate_normal\n",
    "from sklearn import linear_model\n",
    "from sklearn.utils.testing import ignore_warnings\n",
    "from sklearn.exceptions import ConvergenceWarning\n",
    "import statsmodels.api as sm\n",
    "from matplotlib.colors import LogNorm\n",
    "import pickle\n",
    "\n",
    "from joblib import Parallel, delayed\n",
    "import multiprocessing\n",
    "from collections import namedtuple, defaultdict\n",
    "from itertools import count\n",
    "from tqdm import tqdm_notebook\n",
    "\n",
    "import cProfile\n",
    "from datetime import datetime\n",
    "\n",
    "import torch\n",
    "import torch.nn as nn\n",
    "import torch.optim as optim\n",
    "import torch.nn.functional as F\n",
    "import torchvision.transforms as T\n",
    "from torch.autograd import Variable\n",
    "\n",
    "sns.set_style(\"whitegrid\")\n",
    "sns.set_palette(\"colorblind\")\n",
    "palette = sns.color_palette()\n",
    "figsize = (15,8)\n",
    "legend_fontsize = 16\n",
    "\n",
    "import warnings\n",
    "warnings.filterwarnings(\"ignore\")\n",
    "\n",
    "%matplotlib inline"
   ]
  },
  {
   "cell_type": "markdown",
   "metadata": {},
   "source": [
    "Добавим в среду TicTacToe метод step_against_random"
   ]
  },
  {
   "cell_type": "code",
   "execution_count": 2,
   "metadata": {},
   "outputs": [],
   "source": [
    "N_ROWS, N_COLS, N_WIN = 3, 3, 3\n",
    "\n",
    "class TicTacToe(gym.Env):\n",
    "    def __init__(self, n_rows=N_ROWS, n_cols=N_COLS, n_win=N_WIN):\n",
    "        self.n_rows = n_rows\n",
    "        self.n_cols = n_cols\n",
    "        self.n_win = n_win\n",
    "\n",
    "        self.board = np.zeros((self.n_rows, self.n_cols), dtype=int)\n",
    "        self.gameOver = False\n",
    "        self.boardHash = None\n",
    "        # ход первого игрока\n",
    "        self.curTurn = 1\n",
    "        self.emptySpaces = None\n",
    "        \n",
    "        self.reset()\n",
    "\n",
    "    def getEmptySpaces(self):\n",
    "        if self.emptySpaces is None:\n",
    "            res = np.where(self.board == 0)\n",
    "            self.emptySpaces = np.array([ (i, j) for i,j in zip(res[0], res[1]) ])\n",
    "        return self.emptySpaces\n",
    "\n",
    "    def makeMove(self, player, i, j):\n",
    "        self.board[i, j] = player\n",
    "        self.emptySpaces = None\n",
    "        self.boardHash = None\n",
    "\n",
    "    def getHash(self):\n",
    "        if self.boardHash is None:\n",
    "            self.boardHash = ''.join(['%s' % (x+1) for x in self.board.reshape(self.n_rows * self.n_cols)])\n",
    "        return self.boardHash\n",
    "\n",
    "    def isTerminal(self):\n",
    "        # проверим, не закончилась ли игра\n",
    "        cur_marks, cur_p = np.where(self.board == self.curTurn), self.curTurn\n",
    "        for i,j in zip(cur_marks[0], cur_marks[1]):\n",
    "#             print((i,j))\n",
    "            win = False\n",
    "            if i <= self.n_rows - self.n_win:\n",
    "                if np.all(self.board[i:i+self.n_win, j] == cur_p):\n",
    "                    win = True\n",
    "            if not win:\n",
    "                if j <= self.n_cols - self.n_win:\n",
    "                    if np.all(self.board[i,j:j+self.n_win] == cur_p):\n",
    "                        win = True\n",
    "            if not win:\n",
    "                if i <= self.n_rows - self.n_win and j <= self.n_cols - self.n_win:\n",
    "                    if np.all(np.array([ self.board[i+k,j+k] == cur_p for k in range(self.n_win) ])):\n",
    "                        win = True\n",
    "            if not win:\n",
    "                if i <= self.n_rows - self.n_win and j >= self.n_win-1:\n",
    "                    if np.all(np.array([ self.board[i+k,j-k] == cur_p for k in range(self.n_win) ])):\n",
    "                        win = True\n",
    "            if win:\n",
    "                self.gameOver = True\n",
    "                return self.curTurn\n",
    "\n",
    "        if len(self.getEmptySpaces()) == 0:\n",
    "            self.gameOver = True\n",
    "            return 0\n",
    "\n",
    "        self.gameOver = False\n",
    "        return None\n",
    "\n",
    "    def printBoard(self):\n",
    "        for i in range(0, self.n_rows):\n",
    "            print('----'*(self.n_cols)+'-')\n",
    "            out = '| '\n",
    "            for j in range(0, self.n_cols):\n",
    "                if self.board[i, j] == 1:\n",
    "                    token = 'x'\n",
    "                if self.board[i, j] == -1:\n",
    "                    token = 'o'\n",
    "                if self.board[i, j] == 0:\n",
    "                    token = ' '\n",
    "                out += token + ' | '\n",
    "            print(out)\n",
    "        print('----'*(self.n_cols)+'-')\n",
    "\n",
    "    def getState(self):\n",
    "        return (self.getHash(), self.getEmptySpaces(), self.curTurn)\n",
    "\n",
    "    def action_from_int(self, action_int):\n",
    "        return ( int(action_int / self.n_cols), int(action_int % self.n_cols))\n",
    "\n",
    "    def int_from_action(self, action):\n",
    "        return action[0] * self.n_cols + action[1]\n",
    "    \n",
    "    def step(self, action):\n",
    "        if self.board[action[0], action[1]] != 0:\n",
    "            return self.getState(), -10, True, {}\n",
    "        self.makeMove(self.curTurn, action[0], action[1])\n",
    "        reward = self.isTerminal()\n",
    "        self.curTurn = -self.curTurn\n",
    "        return self.getState(), 0 if reward is None else reward, reward is not None, {}\n",
    "    \n",
    "    def step_against_random(self, action):\n",
    "        (next_state, empty_spaces, cur_turn), reward, done, _ = env.step(action)\n",
    "        if done:\n",
    "            return (next_state, empty_spaces, cur_turn), reward, done, _\n",
    "        action = np.random.randint(len(empty_spaces))\n",
    "        action = empty_spaces[action]\n",
    "        return env.step(action)\n",
    "\n",
    "    def reset(self):\n",
    "        self.board = np.zeros((self.n_rows, self.n_cols), dtype=int)\n",
    "        self.boardHash = None\n",
    "        self.gameOver = False\n",
    "        self.emptySpaces = None\n",
    "        self.curTurn = 1"
   ]
  },
  {
   "cell_type": "code",
   "execution_count": 3,
   "metadata": {},
   "outputs": [],
   "source": [
    "def plot_board(env, pi, showtext=True, verbose=True, fontq=20, fontx=60):\n",
    "    '''Рисуем доску с оценками из стратегии pi'''\n",
    "    fig, ax = plt.subplots(1, 1, figsize=(8, 8))\n",
    "    X, Y = np.meshgrid(np.arange(0, env.n_rows), np.arange(0, env.n_rows))\n",
    "    Z = np.zeros((env.n_rows, env.n_cols)) + .01\n",
    "    s, actions = env.getHash(), env.getEmptySpaces()\n",
    "    if pi is not None and s in pi.Q:\n",
    "        for i, a in enumerate(actions):\n",
    "            Z[a[0], a[1]] = pi.Q[s][i]\n",
    "    ax.set_xticks([])\n",
    "    ax.set_yticks([])\n",
    "    surf = ax.imshow(Z, cmap=plt.get_cmap('Accent', 10), vmin=-1, vmax=1)\n",
    "    if showtext:\n",
    "        for i,a in enumerate(actions):\n",
    "            if pi is not None and s in pi.Q:\n",
    "                ax.text( a[1] , a[0] , \"%.3f\" % pi.Q[s][i], fontsize=fontq, horizontalalignment='center', verticalalignment='center', color=\"w\" )\n",
    "\n",
    "    for i in range(env.n_rows):\n",
    "        for j in range(env.n_cols):\n",
    "            if env.board[i, j] == -1:\n",
    "                ax.text(j, i, \"O\", fontsize=fontx, horizontalalignment='center', verticalalignment='center', color=\"w\" )\n",
    "            if env.board[i, j] == 1:\n",
    "                ax.text(j, i, \"X\", fontsize=fontx, horizontalalignment='center', verticalalignment='center', color=\"w\" )\n",
    "    cbar = plt.colorbar(surf, ticks=[0, 1])\n",
    "    ax.grid(False)\n",
    "    plt.show()\n",
    "\n",
    "def get_and_print_move(env, pi, s, actions, random=False, verbose=True, fontq=20, fontx=60):\n",
    "    '''Делаем ход, рисуем доску'''\n",
    "    plot_board(env, pi, fontq=fontq, fontx=fontx)\n",
    "    if verbose and (pi is not None):\n",
    "        if s in pi.Q:\n",
    "            for i,a in enumerate(actions):\n",
    "                print(i, a, pi.Q[s][i])\n",
    "        else:\n",
    "            print(\"Стратегия не знает, что делать...\")\n",
    "    if random:\n",
    "        return np.random.randint(len(actions))\n",
    "    else:\n",
    "        return pi.getActionGreedy(s, len(actions))"
   ]
  },
  {
   "cell_type": "code",
   "execution_count": 4,
   "metadata": {},
   "outputs": [],
   "source": [
    "def plot_test_game(env, pi1, pi2, random_crosses=False, random_naughts=True, verbose=True, fontq=20, fontx=60):\n",
    "    '''Играем тестовую партию между стратегиями или со случайными ходами, рисуем ход игры'''\n",
    "    done = False\n",
    "    env.reset()\n",
    "    while not done:\n",
    "        s, actions = env.getHash(), env.getEmptySpaces()\n",
    "        if env.curTurn == 1:\n",
    "            a = get_and_print_move(env, pi1, s, actions, random=random_crosses, verbose=verbose, fontq=fontq, fontx=fontx)\n",
    "        else:\n",
    "            a = get_and_print_move(env, pi2, s, actions, random=random_naughts, verbose=verbose, fontq=fontq, fontx=fontx)\n",
    "        observation, reward, done, info = env.step(actions[a])\n",
    "        if reward == 1:\n",
    "            print(\"Крестики выиграли!\")\n",
    "            plot_board(env, None, showtext=False, fontq=fontq, fontx=fontx)\n",
    "        if reward == -1:\n",
    "            print(\"Нолики выиграли!\")\n",
    "            plot_board(env, None, showtext=False, fontq=fontq, fontx=fontx)"
   ]
  },
  {
   "cell_type": "code",
   "execution_count": 5,
   "metadata": {},
   "outputs": [],
   "source": [
    "# N_ROWS, N_COLS, N_WIN = 3, 3, 3\n",
    "\n",
    "env = TicTacToe()"
   ]
  },
  {
   "cell_type": "code",
   "execution_count": 19,
   "metadata": {},
   "outputs": [
    {
     "data": {
      "image/png": "[encoded data removed]",
      "text/plain": [
       "<Figure size 576x576 with 2 Axes>"
      ]
     },
     "metadata": {
      "needs_background": "light"
     },
     "output_type": "display_data"
    },
    {
     "data": {
      "image/png": "[encoded data removed]",
      "text/plain": [
       "<Figure size 576x576 with 2 Axes>"
      ]
     },
     "metadata": {
      "needs_background": "light"
     },
     "output_type": "display_data"
    },
    {
     "data": {
      "image/png": "[encoded data removed]",
      "text/plain": [
       "<Figure size 576x576 with 2 Axes>"
      ]
     },
     "metadata": {
      "needs_background": "light"
     },
     "output_type": "display_data"
    },
    {
     "data": {
      "image/png": "[encoded data removed]",
      "text/plain": [
       "<Figure size 576x576 with 2 Axes>"
      ]
     },
     "metadata": {
      "needs_background": "light"
     },
     "output_type": "display_data"
    },
    {
     "data": {
      "image/png": "[encoded data removed]",
      "text/plain": [
       "<Figure size 576x576 with 2 Axes>"
      ]
     },
     "metadata": {
      "needs_background": "light"
     },
     "output_type": "display_data"
    },
    {
     "name": "stdout",
     "output_type": "stream",
     "text": [
      "Крестики выиграли!\n"
     ]
    },
    {
     "data": {
      "image/png": "[encoded data removed]",
      "text/plain": [
       "<Figure size 576x576 with 2 Axes>"
      ]
     },
     "metadata": {
      "needs_background": "light"
     },
     "output_type": "display_data"
    }
   ],
   "source": [
    "plot_test_game(env, None, None, random_crosses=True, random_naughts=True, \n",
    "               verbose=True, fontx=20)"
   ]
  },
  {
   "cell_type": "markdown",
   "metadata": {},
   "source": [
    "### Часть первая: крестики-нолики при помощи Q-обучения"
   ]
  },
  {
   "cell_type": "code",
   "execution_count": 6,
   "metadata": {},
   "outputs": [],
   "source": [
    "class Qlearning:\n",
    "    def __init__(self, env, alpha=0.4, gamma=1, min_epsilon=0.01):\n",
    "        self.env = env\n",
    "        self.alpha = alpha\n",
    "        self.gamma = gamma\n",
    "        self.min_epsilon = min_epsilon\n",
    "        self.Q = defaultdict(lambda: [0] * (env.n_rows * env.n_cols))\n",
    "        \n",
    "        \n",
    "    def reset_all(self):\n",
    "        self.Q = defaultdict(lambda: [0] * (self.env.n_rows * self.env.n_cols))\n",
    "        self.env.reset()\n",
    "    \n",
    "    def get_action(self, state, empty_spaces, eps=0):\n",
    "        if len(empty_spaces) == 0:\n",
    "            return -1\n",
    "        empty_spaces = [self.env.n_cols * i[0] + i[1] for i in empty_spaces]\n",
    "        if np.random.rand() > eps:\n",
    "            action = np.argmax(np.take(self.Q[state], empty_spaces))\n",
    "            action = empty_spaces[action]\n",
    "        else:\n",
    "            action = np.random.choice(empty_spaces)\n",
    "        return action\n",
    "    \n",
    "    def update_Q(self, state, next_state, action, reward, done):\n",
    "        gamma = self.gamma\n",
    "        if done:\n",
    "            gamma = 0\n",
    "        next_action = self.get_action(next_state, env.emptySpaces)\n",
    "\n",
    "        self.Q[state][action] = self.Q[state][action] + self.alpha * (reward + gamma * self.Q[next_state][next_action] - self.Q[state][action])\n",
    "        \n",
    "    def conduct_experiments(self, iterations=10 ** 4):\n",
    "        Rs = []\n",
    "        for i in range(iterations):\n",
    "            self.env.reset()\n",
    "            state = self.env.getHash()\n",
    "            empty_spaces = [[i, j] for i in range(self.env.n_rows) for j in range(self.env.n_cols)]\n",
    "            done = False\n",
    "            while not done:\n",
    "                action = self.get_action(state, empty_spaces)\n",
    "                pack = env.step_against_random(self.env.action_from_int(action))\n",
    "                (next_state, empty_spaces, cur_turn), reward, done, _ = pack\n",
    "                state = next_state\n",
    "            Rs.append(reward)\n",
    "        return np.mean(Rs)\n",
    "    \n",
    "    def train(self, num_episodes=2 * 10 ** 4):\n",
    "        self.reset_all()\n",
    "        Rs = []\n",
    "        for i in tqdm_notebook(range(num_episodes)):\n",
    "            if not i % 1000:\n",
    "                Rs.append(self.conduct_experiments())\n",
    "            self.env.reset()\n",
    "            state = self.env.getHash()\n",
    "            empty_spaces = [[i, j] for i in range(self.env.n_rows) for j in range(self.env.n_cols)]\n",
    "            done = False\n",
    "            while not done:\n",
    "                eps = max(self.min_epsilon, 1 / (i + 1) ** 0.99)\n",
    "                action = self.get_action(state, empty_spaces, eps)\n",
    "                pack = self.env.step_against_random(self.env.action_from_int(action))\n",
    "                (next_state, empty_spaces, cur_turn), reward, done, _ = pack\n",
    "                self.update_Q(state, next_state, action, reward, done)\n",
    "                state = next_state\n",
    "                \n",
    "        return Rs\n"
   ]
  },
  {
   "cell_type": "code",
   "execution_count": 7,
   "metadata": {},
   "outputs": [],
   "source": [
    "q_learning = Qlearning(env, min_epsilon=0.01)"
   ]
  },
  {
   "cell_type": "code",
   "execution_count": 8,
   "metadata": {},
   "outputs": [
    {
     "data": {
      "application/vnd.jupyter.widget-view+json": {
       "model_id": "0d38c776512b4380a07f41459fb2c14e",
       "version_major": 2,
       "version_minor": 0
      },
      "text/plain": [
       "HBox(children=(FloatProgress(value=0.0, max=20000.0), HTML(value='')))"
      ]
     },
     "metadata": {},
     "output_type": "display_data"
    },
    {
     "name": "stdout",
     "output_type": "stream",
     "text": [
      "\n"
     ]
    }
   ],
   "source": [
    "Rs = q_learning.train()"
   ]
  },
  {
   "cell_type": "code",
   "execution_count": 9,
   "metadata": {},
   "outputs": [
    {
     "data": {
      "text/plain": [
       "[<matplotlib.lines.Line2D at 0x7fba7de5fa00>]"
      ]
     },
     "execution_count": 9,
     "metadata": {},
     "output_type": "execute_result"
    },
    {
     "data": {
      "image/png": "[encoded data removed]",
      "text/plain": [
       "<Figure size 432x288 with 1 Axes>"
      ]
     },
     "metadata": {
      "needs_background": "light"
     },
     "output_type": "display_data"
    }
   ],
   "source": [
    "plt.ylim(0.5, 1)\n",
    "plt.plot(Rs)"
   ]
  },
  {
   "cell_type": "markdown",
   "metadata": {},
   "source": [
    "Попробуем тоже самое для доски 10x10. Чтобы выиграть надо собрать 5 крестиков."
   ]
  },
  {
   "cell_type": "code",
   "execution_count": 10,
   "metadata": {},
   "outputs": [],
   "source": [
    "env = TicTacToe(n_rows=4, n_cols=4, n_win=4)\n",
    "q_learning = Qlearning(env, min_epsilon=0.01)"
   ]
  },
  {
   "cell_type": "code",
   "execution_count": 11,
   "metadata": {},
   "outputs": [
    {
     "data": {
      "application/vnd.jupyter.widget-view+json": {
       "model_id": "4b3b49ea80f745d89a443edf5b1168a9",
       "version_major": 2,
       "version_minor": 0
      },
      "text/plain": [
       "HBox(children=(FloatProgress(value=0.0, max=20000.0), HTML(value='')))"
      ]
     },
     "metadata": {},
     "output_type": "display_data"
    },
    {
     "name": "stdout",
     "output_type": "stream",
     "text": [
      "\n"
     ]
    }
   ],
   "source": [
    "Rs = q_learning.train(20_000)"
   ]
  },
  {
   "cell_type": "code",
   "execution_count": 12,
   "metadata": {},
   "outputs": [
    {
     "data": {
      "text/plain": [
       "[<matplotlib.lines.Line2D at 0x7fba7ee4f7c0>]"
      ]
     },
     "execution_count": 12,
     "metadata": {},
     "output_type": "execute_result"
    },
    {
     "data": {
      "image/png": "[encoded data removed]",
      "text/plain": [
       "<Figure size 432x288 with 1 Axes>"
      ]
     },
     "metadata": {
      "needs_background": "light"
     },
     "output_type": "display_data"
    }
   ],
   "source": [
    "plt.plot(Rs)"
   ]
  },
  {
   "cell_type": "markdown",
   "metadata": {},
   "source": [
    "Рост есть. Это радует. Кстати, 5х5 пробовал, не пошло."
   ]
  },
  {
   "cell_type": "markdown",
   "metadata": {},
   "source": [
    "### Часть вторая: добавим нейронных сетей"
   ]
  },
  {
   "cell_type": "code",
   "execution_count": 109,
   "metadata": {},
   "outputs": [],
   "source": [
    "class ReplayMemory():\n",
    "    def __init__(self, capacity):\n",
    "        self.capacity = capacity\n",
    "        self.memory = []\n",
    "        self.position = 0\n",
    "\n",
    "    def store(self, exptuple):\n",
    "        if len(self.memory) < self.capacity:\n",
    "            self.memory.append(None)\n",
    "        self.memory[self.position] = exptuple\n",
    "        self.position = (self.position + 1) % self.capacity\n",
    "       \n",
    "    def sample(self, batch_size):\n",
    "        return random.sample(self.memory, batch_size)\n",
    "    \n",
    "    def __len__(self):\n",
    "        return len(self.memory)\n",
    "    \n",
    "class Network(nn.Module):\n",
    "    def __init__(self, n_cols, n_rows):\n",
    "        nn.Module.__init__(self)\n",
    "        self.conv_out_size = 9 # 5\n",
    "        self.n_cols = n_cols\n",
    "        self.n_rows = n_rows\n",
    "        self.conv = nn.Conv2d(1, self.conv_out_size, kernel_size=3, stride=1, padding=1)\n",
    "        self.l2 = nn.Linear(self.conv_out_size * n_cols * n_rows, n_cols * n_rows)\n",
    "\n",
    "    def forward(self, x):\n",
    "        x = x.view(-1, 1, self.n_cols, self.n_rows)\n",
    "        x = F.relu(self.conv(x))\n",
    "        x = x.view(-1, self.conv_out_size * self.n_cols * self.n_rows)\n",
    "        x = self.l2(x)\n",
    "        return x\n",
    "\n",
    "class TicTacToeDQN():\n",
    "    def __init__(self, env):\n",
    "        self.env = env\n",
    "        self.model = Network(self.env.n_cols, self.env.n_rows)\n",
    "        self.memory = ReplayMemory(10000)\n",
    "        self.optimizer = optim.Adam(self.model.parameters(), 0.001)\n",
    "        self.steps_done = 0\n",
    "        self.episode_durations = []\n",
    "        \n",
    "        self.gamma = 0.8\n",
    "        self.batch_size = 64\n",
    "        \n",
    "        self.eps_init, self.eps_final, self.eps_decay = 0.9, 0.05, 200\n",
    "        self.num_step = 0\n",
    "        \n",
    "        self.mean_rewards = []\n",
    "\n",
    "    def select_greedy_action(self, state, empty_spaces):\n",
    "        state = state.flatten()\n",
    "        sorted_actions = self.model(state).data.argsort().numpy().reshape(-1,1)\n",
    "        for a in reversed(sorted_actions):\n",
    "            if a not in empty_spaces:\n",
    "                continue\n",
    "            return self.env.action_from_int(a)\n",
    "        assert 1 == 0, \"something went wrong\"\n",
    "    \n",
    "    def select_action(self, state):\n",
    "        empty_spaces = self.env.emptySpaces\n",
    "        if empty_spaces is None:\n",
    "            empty_spaces = [[i, j] for i in range(self.env.n_rows) for j in range(self.env.n_cols)]\n",
    "        if len(empty_spaces) == 0:\n",
    "                return -1\n",
    "        empty_spaces = [self.env.n_cols * i[0] + i[1] for i in empty_spaces]\n",
    "        eps_threshold = self.eps_final + (self.eps_init - self.eps_final) * math.exp(-1. * self.num_step / self.eps_decay)\n",
    "        if np.random.rand() > eps_threshold:\n",
    "            action = self.select_greedy_action(state, empty_spaces)\n",
    "            action = action[0] * self.env.n_rows + action[1]\n",
    "        else:\n",
    "            action = np.random.choice(empty_spaces)\n",
    "        return torch.tensor([[action]], dtype=torch.int64)\n",
    "        \n",
    "    def run_episode(self, e=0, do_learning=True, greedy=False, render=False):\n",
    "        self.env.reset()\n",
    "        state, num_step = self.env.board.flatten(), 0\n",
    "        empty_spaces = [[i, j] for i in range(self.env.n_rows) for j in range(self.env.n_cols)]\n",
    "        while True:\n",
    "\n",
    "            state_tensor = torch.tensor([state], dtype=torch.float32)\n",
    "            with torch.no_grad():\n",
    "                if greedy:\n",
    "                    action = self.select_greedy_action(state_tensor, empty_spaces)\n",
    "                else:\n",
    "                    action = self.select_action(state_tensor)\n",
    "            action_tuple = self.env.action_from_int(action.numpy()[0][0])\n",
    "            _, reward, done, _ = self.env.step_against_random(action_tuple)\n",
    "\n",
    "            next_state = self.env.board.flatten()\n",
    "            next_state_tensor = torch.tensor([next_state], dtype=torch.float32)\n",
    "\n",
    "            transition = (state_tensor, action, next_state_tensor, torch.tensor([reward], dtype=torch.float32))\n",
    "            self.memory.store(transition)\n",
    "\n",
    "            if do_learning:\n",
    "                self.learn()\n",
    "\n",
    "            state = next_state\n",
    "            num_step += 1\n",
    "\n",
    "            if done:\n",
    "                self.episode_durations.append(num_step)\n",
    "                break\n",
    "\n",
    "    def learn(self):\n",
    "        if len(self.memory) < self.batch_size:\n",
    "            return\n",
    "\n",
    "        # берём мини-батч из памяти\n",
    "        transitions = self.memory.sample(self.batch_size)\n",
    "        batch_state, batch_action, batch_next_state, batch_reward = zip(*transitions)\n",
    "\n",
    "        batch_state = Variable(torch.cat(batch_state))\n",
    "        batch_action = Variable(torch.cat(batch_action))\n",
    "        batch_reward = Variable(torch.cat(batch_reward))\n",
    "        batch_next_state = Variable(torch.cat(batch_next_state))\n",
    "\n",
    "        # считаем значения функции Q\n",
    "        \n",
    "        Q = self.model(batch_state).gather(1, batch_action).reshape([self.batch_size])\n",
    "\n",
    "        # оцениваем ожидаемые значения после этого действия\n",
    "        Qmax = self.model(batch_next_state).detach().max(1)[0]\n",
    "        Qnext = batch_reward + (self.gamma * Qmax)\n",
    "\n",
    "        # и хотим, чтобы Q было похоже на Qnext -- это и есть суть Q-обучения\n",
    "        loss = F.smooth_l1_loss(Q, Qnext)\n",
    "\n",
    "        self.optimizer.zero_grad()\n",
    "        loss.backward()\n",
    "        self.optimizer.step()\n",
    "        \n",
    "    def play_one_game(self):\n",
    "        self.model.eval()\n",
    "        \n",
    "        self.env.reset()\n",
    "        state, num_step = self.env.board.flatten(), 0\n",
    "        empty_spaces = [[i, j] for i in range(self.env.n_rows) for j in range(self.env.n_cols)]\n",
    "        empty_spaces = [self.env.n_cols * i[0] + i[1] for i in empty_spaces]\n",
    "        while True:\n",
    "\n",
    "            state_tensor = torch.tensor([state], dtype=torch.float32)\n",
    "    \n",
    "            action_tuple = self.select_greedy_action(state_tensor, empty_spaces)\n",
    "        \n",
    "            _, reward, done, _ = self.env.step_against_random(action_tuple)\n",
    "            next_state = self.env.board.flatten()\n",
    "            next_state_tensor = torch.tensor([next_state], dtype=torch.float32)\n",
    "\n",
    "            state = next_state\n",
    "            num_step += 1\n",
    "            empty_spaces = self.env.emptySpaces\n",
    "            empty_spaces = [self.env.n_cols * i[0] + i[1] for i in empty_spaces]\n",
    "            if done:\n",
    "                break\n",
    "\n",
    "\n",
    "        return reward\n",
    "    def conduct_experiments(self, num_episodes=1000):\n",
    "        Rs = []\n",
    "        for i in range(num_episodes):\n",
    "            Rs.append(self.play_one_game())\n",
    "        self.mean_rewards.append(np.mean(Rs))\n"
   ]
  },
  {
   "cell_type": "code",
   "execution_count": 115,
   "metadata": {},
   "outputs": [
    {
     "data": {
      "application/vnd.jupyter.widget-view+json": {
       "model_id": "",
       "version_major": 2,
       "version_minor": 0
      },
      "text/plain": [
       "HBox(children=(FloatProgress(value=0.0, max=300.0), HTML(value='')))"
      ]
     },
     "metadata": {},
     "output_type": "display_data"
    },
    {
     "name": "stdout",
     "output_type": "stream",
     "text": [
      "\n"
     ]
    }
   ],
   "source": [
    "env = TicTacToe(8,8,5)\n",
    "dqn = TicTacToeDQN(env)\n",
    "\n",
    "for e in tqdm_notebook(range(300)):\n",
    "    dqn.run_episode(e)\n",
    "    dqn.conduct_experiments(1000)"
   ]
  },
  {
   "cell_type": "code",
   "execution_count": 116,
   "metadata": {},
   "outputs": [
    {
     "data": {
      "text/plain": [
       "[<matplotlib.lines.Line2D at 0x7fba646ef8e0>]"
      ]
     },
     "execution_count": 116,
     "metadata": {},
     "output_type": "execute_result"
    },
    {
     "data": {
      "image/png": "[encoded data removed]",
      "text/plain": [
       "<Figure size 432x288 with 1 Axes>"
      ]
     },
     "metadata": {
      "needs_background": "light"
     },
     "output_type": "display_data"
    }
   ],
   "source": [
    "plt.plot(dqn.mean_rewards)"
   ]
  },
  {
   "cell_type": "markdown",
   "metadata": {},
   "source": [
    "нормально стало получаться, когда каналов добавил у свертки"
   ]
  },
  {
   "cell_type": "markdown",
   "metadata": {},
   "source": [
    "Делаем dueling DQN"
   ]
  },
  {
   "cell_type": "code",
   "execution_count": 146,
   "metadata": {},
   "outputs": [],
   "source": [
    "class TicTacToeDQN():\n",
    "    def __init__(self, env, adversary=None):\n",
    "        self.env = env\n",
    "        self.model = Network(self.env.n_cols, self.env.n_rows)\n",
    "        self.memory = ReplayMemory(10000)\n",
    "        self.optimizer = optim.Adam(self.model.parameters(), 0.001)\n",
    "        self.steps_done = 0\n",
    "        self.episode_durations = []\n",
    "        \n",
    "        self.gamma = 0.8\n",
    "        self.batch_size = 64\n",
    "        \n",
    "        self.eps_init, self.eps_final, self.eps_decay = 0.9, 0.05, 200\n",
    "        self.num_step = 0\n",
    "        \n",
    "        self.mean_rewards = []\n",
    "        \n",
    "        self.adversary = adversary\n",
    "\n",
    "    def select_greedy_action(self, state, empty_spaces):\n",
    "        state = state.flatten()\n",
    "        sorted_actions = self.model(state).data.argsort().numpy().reshape(-1,1)\n",
    "        for a in reversed(sorted_actions):\n",
    "            if a not in empty_spaces:\n",
    "                continue\n",
    "            return self.env.action_from_int(a)\n",
    "        assert 1 == 0, \"something went wrong\"\n",
    "    \n",
    "    def select_action(self, state):\n",
    "        empty_spaces = self.env.emptySpaces\n",
    "        if empty_spaces is None:\n",
    "            empty_spaces = [[i, j] for i in range(self.env.n_rows) for j in range(self.env.n_cols)]\n",
    "        if len(empty_spaces) == 0:\n",
    "                return -1\n",
    "        empty_spaces = [self.env.n_cols * i[0] + i[1] for i in empty_spaces]\n",
    "        eps_threshold = self.eps_final + (self.eps_init - self.eps_final) * math.exp(-1. * self.num_step / self.eps_decay)\n",
    "        if np.random.rand() > eps_threshold:\n",
    "            action = self.select_greedy_action(state, empty_spaces)\n",
    "            action = action[0] * self.env.n_rows + action[1]\n",
    "        else:\n",
    "            action = np.random.choice(empty_spaces)\n",
    "        return torch.tensor([[action]], dtype=torch.int64)\n",
    "        \n",
    "    def run_episode(self, e=0, do_learning=True, greedy=False, render=False):\n",
    "        self.env.reset()\n",
    "        state, num_step = self.env.board.flatten(), 0\n",
    "        empty_spaces = [[i, j] for i in range(self.env.n_rows) for j in range(self.env.n_cols)]\n",
    "        \n",
    "        actor, waiter = self, self.adversary\n",
    "        reward_coef = 1\n",
    "        while True:\n",
    "\n",
    "            state_tensor = torch.tensor([state], dtype=torch.float32)\n",
    "            with torch.no_grad():\n",
    "                if greedy:\n",
    "                    action = actor.select_greedy_action(state_tensor, empty_spaces)\n",
    "                else:\n",
    "                    action = actor.select_action(state_tensor)\n",
    "            action_tuple = actor.env.action_from_int(action.numpy()[0][0])\n",
    "            _, reward, done, _ = actor.env.step(action_tuple)\n",
    "            reward *= reward * reward_coef\n",
    "\n",
    "            next_state = actor.env.board.flatten()\n",
    "            next_state_tensor = torch.tensor([next_state], dtype=torch.float32)\n",
    "\n",
    "            transition = (state_tensor, action, next_state_tensor, torch.tensor([reward], dtype=torch.float32))\n",
    "            waiter.memory.store(transition)\n",
    "\n",
    "            if do_learning:\n",
    "                waiter.learn()\n",
    "\n",
    "            state = next_state\n",
    "            num_step += 1\n",
    "\n",
    "            if done:\n",
    "                actor.episode_durations.append(num_step)\n",
    "                actor.memory.store(transition)\n",
    "                actor.learn()\n",
    "                break\n",
    "            actor, waiter = waiter, actor\n",
    "#             reward_coef *= -1\n",
    "\n",
    "    def learn(self):\n",
    "        if len(self.memory) < self.batch_size:\n",
    "            return\n",
    "\n",
    "        # берём мини-батч из памяти\n",
    "        transitions = self.memory.sample(self.batch_size)\n",
    "        batch_state, batch_action, batch_next_state, batch_reward = zip(*transitions)\n",
    "\n",
    "        batch_state = Variable(torch.cat(batch_state))\n",
    "        batch_action = Variable(torch.cat(batch_action))\n",
    "        batch_reward = Variable(torch.cat(batch_reward))\n",
    "        batch_next_state = Variable(torch.cat(batch_next_state))\n",
    "\n",
    "        # считаем значения функции Q\n",
    "        \n",
    "        Q = self.model(batch_state).gather(1, batch_action).reshape([self.batch_size])\n",
    "\n",
    "        # оцениваем ожидаемые значения после этого действия\n",
    "        Qmax = self.model(batch_next_state).detach().max(1)[0]\n",
    "        Qnext = batch_reward + (self.gamma * Qmax)\n",
    "\n",
    "        # и хотим, чтобы Q было похоже на Qnext -- это и есть суть Q-обучения\n",
    "        loss = F.smooth_l1_loss(Q, Qnext)\n",
    "\n",
    "        self.optimizer.zero_grad()\n",
    "        loss.backward()\n",
    "        self.optimizer.step()\n",
    "        \n",
    "    def play_one_game(self):\n",
    "        self.model.eval()\n",
    "        \n",
    "        self.env.reset()\n",
    "        state, num_step = self.env.board.flatten(), 0\n",
    "        empty_spaces = [[i, j] for i in range(self.env.n_rows) for j in range(self.env.n_cols)]\n",
    "        empty_spaces = [self.env.n_cols * i[0] + i[1] for i in empty_spaces]\n",
    "        while True:\n",
    "\n",
    "            state_tensor = torch.tensor([state], dtype=torch.float32)\n",
    "    \n",
    "            action_tuple = self.select_greedy_action(state_tensor, empty_spaces)\n",
    "        \n",
    "            _, reward, done, _ = self.env.step_against_random(action_tuple)\n",
    "            next_state = self.env.board.flatten()\n",
    "            next_state_tensor = torch.tensor([next_state], dtype=torch.float32)\n",
    "\n",
    "            state = next_state\n",
    "            num_step += 1\n",
    "            empty_spaces = self.env.emptySpaces\n",
    "            empty_spaces = [self.env.n_cols * i[0] + i[1] for i in empty_spaces]\n",
    "            if done:\n",
    "                break\n",
    "\n",
    "\n",
    "        return reward\n",
    "    def conduct_experiments(self, num_episodes=1000):\n",
    "        Rs = []\n",
    "        for i in range(num_episodes):\n",
    "            Rs.append(self.play_one_game())\n",
    "        self.mean_rewards.append(np.mean(Rs))"
   ]
  },
  {
   "cell_type": "code",
   "execution_count": 139,
   "metadata": {},
   "outputs": [
    {
     "data": {
      "application/vnd.jupyter.widget-view+json": {
       "model_id": "24c244f449094cd590777b73a9207aee",
       "version_major": 2,
       "version_minor": 0
      },
      "text/plain": [
       "HBox(children=(FloatProgress(value=0.0, max=300.0), HTML(value='')))"
      ]
     },
     "metadata": {},
     "output_type": "display_data"
    },
    {
     "name": "stdout",
     "output_type": "stream",
     "text": [
      "\n"
     ]
    }
   ],
   "source": [
    "env = TicTacToe(3,3,3)\n",
    "dqn_adversary = TicTacToeDQN(env)\n",
    "dqn = TicTacToeDQN(env, dqn_adversary)\n",
    "\n",
    "for e in tqdm_notebook(range(300)):\n",
    "    dqn.run_episode(e)\n",
    "    dqn.conduct_experiments(1000)\n",
    "    dqn_adversary.conduct_experiments(1000)"
   ]
  },
  {
   "cell_type": "code",
   "execution_count": 149,
   "metadata": {},
   "outputs": [
    {
     "data": {
      "application/vnd.jupyter.widget-view+json": {
       "model_id": "cce3f83bfea640648c2758bc20886915",
       "version_major": 2,
       "version_minor": 0
      },
      "text/plain": [
       "HBox(children=(FloatProgress(value=0.0, max=300.0), HTML(value='')))"
      ]
     },
     "metadata": {},
     "output_type": "display_data"
    },
    {
     "name": "stdout",
     "output_type": "stream",
     "text": [
      "\n"
     ]
    }
   ],
   "source": [
    "env = TicTacToe(8,8,5)\n",
    "dqn_adversary = TicTacToeDQN(env)\n",
    "dqn = TicTacToeDQN(env, dqn_adversary)\n",
    "\n",
    "for e in tqdm_notebook(range(300)):\n",
    "    dqn.run_episode(e)\n",
    "    if e % 5 == 0:\n",
    "        dqn.conduct_experiments(1000)\n",
    "        dqn_adversary.conduct_experiments(1000)"
   ]
  },
  {
   "cell_type": "code",
   "execution_count": 148,
   "metadata": {},
   "outputs": [
    {
     "data": {
      "text/plain": [
       "[<matplotlib.lines.Line2D at 0x7fba6742c4c0>]"
      ]
     },
     "execution_count": 148,
     "metadata": {},
     "output_type": "execute_result"
    },
    {
     "data": {
      "image/png": "[encoded data removed]",
      "text/plain": [
       "<Figure size 432x288 with 1 Axes>"
      ]
     },
     "metadata": {
      "needs_background": "light"
     },
     "output_type": "display_data"
    }
   ],
   "source": [
    "plt.plot(dqn.mean_rewards)\n",
    "plt.plot(dqn_adversary.mean_rewards)"
   ]
  },
  {
   "cell_type": "markdown",
   "metadata": {},
   "source": [
    "Не до конца понял, что не так. reward не забыл менять для dqn-антагониста. По разному пробовал. Не совсем понятно, почему против рандома у нее не получается лучше играть. На Rollouts с MCTS не хватило сил."
   ]
  },
  {
   "cell_type": "code",
   "execution_count": null,
   "metadata": {},
   "outputs": [],
   "source": []
  }
 ],
 "metadata": {
  "kernelspec": {
   "display_name": "Python 3",
   "language": "python",
   "name": "python3"
  },
  "language_info": {
   "codemirror_mode": {
    "name": "ipython",
    "version": 3
   },
   "file_extension": ".py",
   "mimetype": "text/x-python",
   "name": "python",
   "nbconvert_exporter": "python",
   "pygments_lexer": "ipython3",
   "version": "3.8.3"
  }
 },
 "nbformat": 4,
 "nbformat_minor": 4
}
